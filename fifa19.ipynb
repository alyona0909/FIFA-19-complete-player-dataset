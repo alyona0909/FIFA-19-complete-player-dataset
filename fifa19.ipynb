{
 "cells": [
  {
   "cell_type": "markdown",
   "metadata": {},
   "source": [
    "# Predicting Player's Overall Rating using Machine Learning\n",
    "\n",
    "This notebook will introduce some foundation machine learning and data science concepts by exploring the problem of predicting player's overall rating.\n",
    "\n",
    "## 1. Problem Definition\n",
    "\n",
    "In our case, the problem we will be exploring is regression.\n",
    "\n",
    "This is because we're going to be using a number of different features about players to predict them overall rating.\n",
    "\n",
    "## 2. Data \n",
    "\n",
    "The data we're using is from Kaggle : https://www.kaggle.com/karangadiya/fifa19\n",
    "\n",
    "\n",
    "## 3. Evaluation \n",
    "\n",
    "Since machine learning is very experimental, you might say something like, \n",
    "> If we can reach 95% accuracy at predicting whether or not a patient has heart disease during the proof of concept, we'll pursure this project.\n",
    "\n",
    "## 4. Features\n",
    "\n",
    "The data includes lastest edition FIFA 2019 players attributes like :\n",
    "* Age \n",
    "* Nationality \n",
    "* Overall \n",
    "* Potential \n",
    "* Club \n",
    "* Value \n",
    "* Wage \n",
    "* Preferred Foot \n",
    "* International Reputation \n",
    "* Weak Foot \n",
    "* Skill Moves \n",
    "* Work Rate \n",
    "* Position \n",
    "* Jersey Number \n",
    "* Joined \n",
    "* Loaned From \n",
    "* Contract Valid Until \n",
    "* Height \n",
    "* Weight \n",
    "* LS, ST, RS, LW, LF, CF, RF, RW, LAM, CAM, RAM, LM, LCM, CM, RCM, RM, LWB, LDM, CDM, RDM, RWB, LB, LCB, CB, RCB, RB \n",
    "* Crossing \n",
    "* Finishing \n",
    "* Heading \n",
    "* Accuracy \n",
    "* ShortPassing \n",
    "* Volleys \n",
    "* Dribbling \n",
    "* Curve \n",
    "* FKAccuracy \n",
    "* LongPassing \n",
    "* BallControl \n",
    "* Acceleration \n",
    "* SprintSpeed \n",
    "* Agility \n",
    "* Reactions \n",
    "* Balance \n",
    "* ShotPower \n",
    "* Jumping \n",
    "* Stamina \n",
    "* Strength \n",
    "* LongShots \n",
    "* Aggression \n",
    "* Interceptions \n",
    "* Positioning \n",
    "* Vision \n",
    "* Penalties \n",
    "* Composure \n",
    "* Marking \n",
    "* StandingTackle \n",
    "* SlidingTackle \n",
    "* GKDiving \n",
    "* GKHandling \n",
    "* GKKicking \n",
    "* GKPositioning \n",
    "* GKReflexes \n",
    "* Release Clause\n",
    "\n",
    "## Preparing the tools\n",
    "\n",
    "* pandas for data analysis\n",
    "* NumPy for numerical operations\n",
    "* Matplotlib/seaborn for plotting of data visualization\n",
    "* Scikit-Learn for machine learning modelling and evaluation"
   ]
  },
  {
   "cell_type": "code",
   "execution_count": 1,
   "metadata": {},
   "outputs": [],
   "source": [
    "# Regular EDA and plotting libraries\n",
    "import pandas as pd\n",
    "import numpy as np \n",
    "import matplotlib.pyplot as plt\n",
    "import seaborn as sns\n",
    "%matplotlib inline \n",
    "\n",
    "# parsing data\n",
    "from sklearn.preprocessing import OneHotEncoder\n",
    "from sklearn.compose import ColumnTransformer\n",
    "\n",
    "## Models\n",
    "from sklearn.linear_model import ElasticNet\n",
    "from sklearn.linear_model import LassoCV\n",
    "from sklearn.ensemble import RandomForestRegressor\n",
    "\n",
    "## Model evaluators\n",
    "from sklearn.model_selection import train_test_split\n",
    "from sklearn.model_selection import RandomizedSearchCV\n",
    "from sklearn.metrics import r2_score, mean_absolute_error, mean_squared_error"
   ]
  },
  {
   "cell_type": "markdown",
   "metadata": {},
   "source": [
    "## Load Data"
   ]
  },
  {
   "cell_type": "code",
   "execution_count": 2,
   "metadata": {},
   "outputs": [
    {
     "data": {
      "text/html": [
       "<div>\n",
       "<style scoped>\n",
       "    .dataframe tbody tr th:only-of-type {\n",
       "        vertical-align: middle;\n",
       "    }\n",
       "\n",
       "    .dataframe tbody tr th {\n",
       "        vertical-align: top;\n",
       "    }\n",
       "\n",
       "    .dataframe thead th {\n",
       "        text-align: right;\n",
       "    }\n",
       "</style>\n",
       "<table border=\"1\" class=\"dataframe\">\n",
       "  <thead>\n",
       "    <tr style=\"text-align: right;\">\n",
       "      <th></th>\n",
       "      <th>Unnamed: 0</th>\n",
       "      <th>ID</th>\n",
       "      <th>Name</th>\n",
       "      <th>Age</th>\n",
       "      <th>Photo</th>\n",
       "      <th>Nationality</th>\n",
       "      <th>Flag</th>\n",
       "      <th>Overall</th>\n",
       "      <th>Potential</th>\n",
       "      <th>Club</th>\n",
       "      <th>...</th>\n",
       "      <th>Composure</th>\n",
       "      <th>Marking</th>\n",
       "      <th>StandingTackle</th>\n",
       "      <th>SlidingTackle</th>\n",
       "      <th>GKDiving</th>\n",
       "      <th>GKHandling</th>\n",
       "      <th>GKKicking</th>\n",
       "      <th>GKPositioning</th>\n",
       "      <th>GKReflexes</th>\n",
       "      <th>Release Clause</th>\n",
       "    </tr>\n",
       "  </thead>\n",
       "  <tbody>\n",
       "    <tr>\n",
       "      <th>0</th>\n",
       "      <td>0</td>\n",
       "      <td>158023</td>\n",
       "      <td>L. Messi</td>\n",
       "      <td>31</td>\n",
       "      <td>https://cdn.sofifa.org/players/4/19/158023.png</td>\n",
       "      <td>Argentina</td>\n",
       "      <td>https://cdn.sofifa.org/flags/52.png</td>\n",
       "      <td>94</td>\n",
       "      <td>94</td>\n",
       "      <td>FC Barcelona</td>\n",
       "      <td>...</td>\n",
       "      <td>96.0</td>\n",
       "      <td>33.0</td>\n",
       "      <td>28.0</td>\n",
       "      <td>26.0</td>\n",
       "      <td>6.0</td>\n",
       "      <td>11.0</td>\n",
       "      <td>15.0</td>\n",
       "      <td>14.0</td>\n",
       "      <td>8.0</td>\n",
       "      <td>€226.5M</td>\n",
       "    </tr>\n",
       "    <tr>\n",
       "      <th>1</th>\n",
       "      <td>1</td>\n",
       "      <td>20801</td>\n",
       "      <td>Cristiano Ronaldo</td>\n",
       "      <td>33</td>\n",
       "      <td>https://cdn.sofifa.org/players/4/19/20801.png</td>\n",
       "      <td>Portugal</td>\n",
       "      <td>https://cdn.sofifa.org/flags/38.png</td>\n",
       "      <td>94</td>\n",
       "      <td>94</td>\n",
       "      <td>Juventus</td>\n",
       "      <td>...</td>\n",
       "      <td>95.0</td>\n",
       "      <td>28.0</td>\n",
       "      <td>31.0</td>\n",
       "      <td>23.0</td>\n",
       "      <td>7.0</td>\n",
       "      <td>11.0</td>\n",
       "      <td>15.0</td>\n",
       "      <td>14.0</td>\n",
       "      <td>11.0</td>\n",
       "      <td>€127.1M</td>\n",
       "    </tr>\n",
       "    <tr>\n",
       "      <th>2</th>\n",
       "      <td>2</td>\n",
       "      <td>190871</td>\n",
       "      <td>Neymar Jr</td>\n",
       "      <td>26</td>\n",
       "      <td>https://cdn.sofifa.org/players/4/19/190871.png</td>\n",
       "      <td>Brazil</td>\n",
       "      <td>https://cdn.sofifa.org/flags/54.png</td>\n",
       "      <td>92</td>\n",
       "      <td>93</td>\n",
       "      <td>Paris Saint-Germain</td>\n",
       "      <td>...</td>\n",
       "      <td>94.0</td>\n",
       "      <td>27.0</td>\n",
       "      <td>24.0</td>\n",
       "      <td>33.0</td>\n",
       "      <td>9.0</td>\n",
       "      <td>9.0</td>\n",
       "      <td>15.0</td>\n",
       "      <td>15.0</td>\n",
       "      <td>11.0</td>\n",
       "      <td>€228.1M</td>\n",
       "    </tr>\n",
       "    <tr>\n",
       "      <th>3</th>\n",
       "      <td>3</td>\n",
       "      <td>193080</td>\n",
       "      <td>De Gea</td>\n",
       "      <td>27</td>\n",
       "      <td>https://cdn.sofifa.org/players/4/19/193080.png</td>\n",
       "      <td>Spain</td>\n",
       "      <td>https://cdn.sofifa.org/flags/45.png</td>\n",
       "      <td>91</td>\n",
       "      <td>93</td>\n",
       "      <td>Manchester United</td>\n",
       "      <td>...</td>\n",
       "      <td>68.0</td>\n",
       "      <td>15.0</td>\n",
       "      <td>21.0</td>\n",
       "      <td>13.0</td>\n",
       "      <td>90.0</td>\n",
       "      <td>85.0</td>\n",
       "      <td>87.0</td>\n",
       "      <td>88.0</td>\n",
       "      <td>94.0</td>\n",
       "      <td>€138.6M</td>\n",
       "    </tr>\n",
       "    <tr>\n",
       "      <th>4</th>\n",
       "      <td>4</td>\n",
       "      <td>192985</td>\n",
       "      <td>K. De Bruyne</td>\n",
       "      <td>27</td>\n",
       "      <td>https://cdn.sofifa.org/players/4/19/192985.png</td>\n",
       "      <td>Belgium</td>\n",
       "      <td>https://cdn.sofifa.org/flags/7.png</td>\n",
       "      <td>91</td>\n",
       "      <td>92</td>\n",
       "      <td>Manchester City</td>\n",
       "      <td>...</td>\n",
       "      <td>88.0</td>\n",
       "      <td>68.0</td>\n",
       "      <td>58.0</td>\n",
       "      <td>51.0</td>\n",
       "      <td>15.0</td>\n",
       "      <td>13.0</td>\n",
       "      <td>5.0</td>\n",
       "      <td>10.0</td>\n",
       "      <td>13.0</td>\n",
       "      <td>€196.4M</td>\n",
       "    </tr>\n",
       "  </tbody>\n",
       "</table>\n",
       "<p>5 rows × 89 columns</p>\n",
       "</div>"
      ],
      "text/plain": [
       "   Unnamed: 0      ID               Name  Age  \\\n",
       "0           0  158023           L. Messi   31   \n",
       "1           1   20801  Cristiano Ronaldo   33   \n",
       "2           2  190871          Neymar Jr   26   \n",
       "3           3  193080             De Gea   27   \n",
       "4           4  192985       K. De Bruyne   27   \n",
       "\n",
       "                                            Photo Nationality  \\\n",
       "0  https://cdn.sofifa.org/players/4/19/158023.png   Argentina   \n",
       "1   https://cdn.sofifa.org/players/4/19/20801.png    Portugal   \n",
       "2  https://cdn.sofifa.org/players/4/19/190871.png      Brazil   \n",
       "3  https://cdn.sofifa.org/players/4/19/193080.png       Spain   \n",
       "4  https://cdn.sofifa.org/players/4/19/192985.png     Belgium   \n",
       "\n",
       "                                  Flag  Overall  Potential  \\\n",
       "0  https://cdn.sofifa.org/flags/52.png       94         94   \n",
       "1  https://cdn.sofifa.org/flags/38.png       94         94   \n",
       "2  https://cdn.sofifa.org/flags/54.png       92         93   \n",
       "3  https://cdn.sofifa.org/flags/45.png       91         93   \n",
       "4   https://cdn.sofifa.org/flags/7.png       91         92   \n",
       "\n",
       "                  Club  ... Composure Marking StandingTackle  SlidingTackle  \\\n",
       "0         FC Barcelona  ...      96.0    33.0           28.0           26.0   \n",
       "1             Juventus  ...      95.0    28.0           31.0           23.0   \n",
       "2  Paris Saint-Germain  ...      94.0    27.0           24.0           33.0   \n",
       "3    Manchester United  ...      68.0    15.0           21.0           13.0   \n",
       "4      Manchester City  ...      88.0    68.0           58.0           51.0   \n",
       "\n",
       "  GKDiving  GKHandling  GKKicking  GKPositioning GKReflexes Release Clause  \n",
       "0      6.0        11.0       15.0           14.0        8.0        €226.5M  \n",
       "1      7.0        11.0       15.0           14.0       11.0        €127.1M  \n",
       "2      9.0         9.0       15.0           15.0       11.0        €228.1M  \n",
       "3     90.0        85.0       87.0           88.0       94.0        €138.6M  \n",
       "4     15.0        13.0        5.0           10.0       13.0        €196.4M  \n",
       "\n",
       "[5 rows x 89 columns]"
      ]
     },
     "execution_count": 2,
     "metadata": {},
     "output_type": "execute_result"
    }
   ],
   "source": [
    "# create a data frame\n",
    "df = pd.read_csv(\"data.csv\")\n",
    "df.head()"
   ]
  },
  {
   "cell_type": "code",
   "execution_count": 3,
   "metadata": {},
   "outputs": [
    {
     "name": "stdout",
     "output_type": "stream",
     "text": [
      "<class 'pandas.core.frame.DataFrame'>\n",
      "RangeIndex: 18207 entries, 0 to 18206\n",
      "Data columns (total 89 columns):\n",
      " #   Column                    Non-Null Count  Dtype  \n",
      "---  ------                    --------------  -----  \n",
      " 0   Unnamed: 0                18207 non-null  int64  \n",
      " 1   ID                        18207 non-null  int64  \n",
      " 2   Name                      18207 non-null  object \n",
      " 3   Age                       18207 non-null  int64  \n",
      " 4   Photo                     18207 non-null  object \n",
      " 5   Nationality               18207 non-null  object \n",
      " 6   Flag                      18207 non-null  object \n",
      " 7   Overall                   18207 non-null  int64  \n",
      " 8   Potential                 18207 non-null  int64  \n",
      " 9   Club                      17966 non-null  object \n",
      " 10  Club Logo                 18207 non-null  object \n",
      " 11  Value                     18207 non-null  object \n",
      " 12  Wage                      18207 non-null  object \n",
      " 13  Special                   18207 non-null  int64  \n",
      " 14  Preferred Foot            18159 non-null  object \n",
      " 15  International Reputation  18159 non-null  float64\n",
      " 16  Weak Foot                 18159 non-null  float64\n",
      " 17  Skill Moves               18159 non-null  float64\n",
      " 18  Work Rate                 18159 non-null  object \n",
      " 19  Body Type                 18159 non-null  object \n",
      " 20  Real Face                 18159 non-null  object \n",
      " 21  Position                  18147 non-null  object \n",
      " 22  Jersey Number             18147 non-null  float64\n",
      " 23  Joined                    16654 non-null  object \n",
      " 24  Loaned From               1264 non-null   object \n",
      " 25  Contract Valid Until      17918 non-null  object \n",
      " 26  Height                    18159 non-null  object \n",
      " 27  Weight                    18159 non-null  object \n",
      " 28  LS                        16122 non-null  object \n",
      " 29  ST                        16122 non-null  object \n",
      " 30  RS                        16122 non-null  object \n",
      " 31  LW                        16122 non-null  object \n",
      " 32  LF                        16122 non-null  object \n",
      " 33  CF                        16122 non-null  object \n",
      " 34  RF                        16122 non-null  object \n",
      " 35  RW                        16122 non-null  object \n",
      " 36  LAM                       16122 non-null  object \n",
      " 37  CAM                       16122 non-null  object \n",
      " 38  RAM                       16122 non-null  object \n",
      " 39  LM                        16122 non-null  object \n",
      " 40  LCM                       16122 non-null  object \n",
      " 41  CM                        16122 non-null  object \n",
      " 42  RCM                       16122 non-null  object \n",
      " 43  RM                        16122 non-null  object \n",
      " 44  LWB                       16122 non-null  object \n",
      " 45  LDM                       16122 non-null  object \n",
      " 46  CDM                       16122 non-null  object \n",
      " 47  RDM                       16122 non-null  object \n",
      " 48  RWB                       16122 non-null  object \n",
      " 49  LB                        16122 non-null  object \n",
      " 50  LCB                       16122 non-null  object \n",
      " 51  CB                        16122 non-null  object \n",
      " 52  RCB                       16122 non-null  object \n",
      " 53  RB                        16122 non-null  object \n",
      " 54  Crossing                  18159 non-null  float64\n",
      " 55  Finishing                 18159 non-null  float64\n",
      " 56  HeadingAccuracy           18159 non-null  float64\n",
      " 57  ShortPassing              18159 non-null  float64\n",
      " 58  Volleys                   18159 non-null  float64\n",
      " 59  Dribbling                 18159 non-null  float64\n",
      " 60  Curve                     18159 non-null  float64\n",
      " 61  FKAccuracy                18159 non-null  float64\n",
      " 62  LongPassing               18159 non-null  float64\n",
      " 63  BallControl               18159 non-null  float64\n",
      " 64  Acceleration              18159 non-null  float64\n",
      " 65  SprintSpeed               18159 non-null  float64\n",
      " 66  Agility                   18159 non-null  float64\n",
      " 67  Reactions                 18159 non-null  float64\n",
      " 68  Balance                   18159 non-null  float64\n",
      " 69  ShotPower                 18159 non-null  float64\n",
      " 70  Jumping                   18159 non-null  float64\n",
      " 71  Stamina                   18159 non-null  float64\n",
      " 72  Strength                  18159 non-null  float64\n",
      " 73  LongShots                 18159 non-null  float64\n",
      " 74  Aggression                18159 non-null  float64\n",
      " 75  Interceptions             18159 non-null  float64\n",
      " 76  Positioning               18159 non-null  float64\n",
      " 77  Vision                    18159 non-null  float64\n",
      " 78  Penalties                 18159 non-null  float64\n",
      " 79  Composure                 18159 non-null  float64\n",
      " 80  Marking                   18159 non-null  float64\n",
      " 81  StandingTackle            18159 non-null  float64\n",
      " 82  SlidingTackle             18159 non-null  float64\n",
      " 83  GKDiving                  18159 non-null  float64\n",
      " 84  GKHandling                18159 non-null  float64\n",
      " 85  GKKicking                 18159 non-null  float64\n",
      " 86  GKPositioning             18159 non-null  float64\n",
      " 87  GKReflexes                18159 non-null  float64\n",
      " 88  Release Clause            16643 non-null  object \n",
      "dtypes: float64(38), int64(6), object(45)\n",
      "memory usage: 12.4+ MB\n"
     ]
    }
   ],
   "source": [
    "# show a quick insight to the number of missing values you have and what type of data your working with.\n",
    "df.info()"
   ]
  },
  {
   "cell_type": "code",
   "execution_count": 4,
   "metadata": {},
   "outputs": [
    {
     "data": {
      "image/png": "[encoded data removed]",
      "text/plain": [
       "<Figure size 720x432 with 1 Axes>"
      ]
     },
     "metadata": {
      "needs_background": "light"
     },
     "output_type": "display_data"
    }
   ],
   "source": [
    "# we are going to predict overall rating\n",
    "df[\"Overall\"].plot(kind=\"hist\", xlabel=\"Overall rating\", ylabel=\"Number of players\", \n",
    "                                  title=\"Distribution of the players overall rating\", figsize=(10, 6));"
   ]
  },
  {
   "cell_type": "markdown",
   "metadata": {},
   "source": [
    "## Parsing dates\n",
    "\n",
    "To use a machine learning models all data should be in numerical format and there can't be any missing values.\n",
    "\n",
    "We want to predict overall rating, so it's a good idea to make sure \"Overall\" doesn't contains missing values. If nan values exists, we'll drop them."
   ]
  },
  {
   "cell_type": "code",
   "execution_count": 5,
   "metadata": {
    "scrolled": true
   },
   "outputs": [
    {
     "name": "stdout",
     "output_type": "stream",
     "text": [
      "Number of nan values in label \"Overall\" = 0\n"
     ]
    }
   ],
   "source": [
    "# check nan values in label \"Position\" and drop them if exists\n",
    "if df[\"Overall\"].isna().sum():\n",
    "    df = df.dropna(subset=[\"Overall\"])\n",
    "df = df.reset_index(drop=True)\n",
    "print(f\"Number of nan values in label \\\"Overall\\\" = {df.Overall.isna().sum()}\")"
   ]
  },
  {
   "cell_type": "code",
   "execution_count": 6,
   "metadata": {},
   "outputs": [
    {
     "data": {
      "text/plain": [
       "Unnamed: 0           0\n",
       "ID                   0\n",
       "Name                 0\n",
       "Age                  0\n",
       "Photo                0\n",
       "                  ... \n",
       "GKHandling          48\n",
       "GKKicking           48\n",
       "GKPositioning       48\n",
       "GKReflexes          48\n",
       "Release Clause    1564\n",
       "Length: 89, dtype: int64"
      ]
     },
     "execution_count": 6,
     "metadata": {},
     "output_type": "execute_result"
    }
   ],
   "source": [
    "# Check for missing values\n",
    "df.isna().sum()"
   ]
  },
  {
   "cell_type": "markdown",
   "metadata": {},
   "source": [
    "### Convert strings to categories\n",
    "\n",
    "One way to help turn all of our data into numbers is to convert the columns with the string datatype into a category datatype.\n",
    "\n",
    "To do this we can use the pandas types API which allows us to interact and manipulate the types of data."
   ]
  },
  {
   "cell_type": "code",
   "execution_count": 7,
   "metadata": {},
   "outputs": [
    {
     "name": "stdout",
     "output_type": "stream",
     "text": [
      "<class 'pandas.core.frame.DataFrame'>\n",
      "RangeIndex: 18207 entries, 0 to 18206\n",
      "Data columns (total 89 columns):\n",
      " #   Column                    Non-Null Count  Dtype   \n",
      "---  ------                    --------------  -----   \n",
      " 0   Unnamed: 0                18207 non-null  int64   \n",
      " 1   ID                        18207 non-null  int64   \n",
      " 2   Name                      18207 non-null  category\n",
      " 3   Age                       18207 non-null  int64   \n",
      " 4   Photo                     18207 non-null  category\n",
      " 5   Nationality               18207 non-null  category\n",
      " 6   Flag                      18207 non-null  category\n",
      " 7   Overall                   18207 non-null  int64   \n",
      " 8   Potential                 18207 non-null  int64   \n",
      " 9   Club                      17966 non-null  category\n",
      " 10  Club Logo                 18207 non-null  category\n",
      " 11  Value                     18207 non-null  category\n",
      " 12  Wage                      18207 non-null  category\n",
      " 13  Special                   18207 non-null  int64   \n",
      " 14  Preferred Foot            18159 non-null  category\n",
      " 15  International Reputation  18159 non-null  float64 \n",
      " 16  Weak Foot                 18159 non-null  float64 \n",
      " 17  Skill Moves               18159 non-null  float64 \n",
      " 18  Work Rate                 18159 non-null  category\n",
      " 19  Body Type                 18159 non-null  category\n",
      " 20  Real Face                 18159 non-null  category\n",
      " 21  Position                  18147 non-null  category\n",
      " 22  Jersey Number             18147 non-null  float64 \n",
      " 23  Joined                    16654 non-null  category\n",
      " 24  Loaned From               1264 non-null   category\n",
      " 25  Contract Valid Until      17918 non-null  category\n",
      " 26  Height                    18159 non-null  category\n",
      " 27  Weight                    18159 non-null  category\n",
      " 28  LS                        16122 non-null  category\n",
      " 29  ST                        16122 non-null  category\n",
      " 30  RS                        16122 non-null  category\n",
      " 31  LW                        16122 non-null  category\n",
      " 32  LF                        16122 non-null  category\n",
      " 33  CF                        16122 non-null  category\n",
      " 34  RF                        16122 non-null  category\n",
      " 35  RW                        16122 non-null  category\n",
      " 36  LAM                       16122 non-null  category\n",
      " 37  CAM                       16122 non-null  category\n",
      " 38  RAM                       16122 non-null  category\n",
      " 39  LM                        16122 non-null  category\n",
      " 40  LCM                       16122 non-null  category\n",
      " 41  CM                        16122 non-null  category\n",
      " 42  RCM                       16122 non-null  category\n",
      " 43  RM                        16122 non-null  category\n",
      " 44  LWB                       16122 non-null  category\n",
      " 45  LDM                       16122 non-null  category\n",
      " 46  CDM                       16122 non-null  category\n",
      " 47  RDM                       16122 non-null  category\n",
      " 48  RWB                       16122 non-null  category\n",
      " 49  LB                        16122 non-null  category\n",
      " 50  LCB                       16122 non-null  category\n",
      " 51  CB                        16122 non-null  category\n",
      " 52  RCB                       16122 non-null  category\n",
      " 53  RB                        16122 non-null  category\n",
      " 54  Crossing                  18159 non-null  float64 \n",
      " 55  Finishing                 18159 non-null  float64 \n",
      " 56  HeadingAccuracy           18159 non-null  float64 \n",
      " 57  ShortPassing              18159 non-null  float64 \n",
      " 58  Volleys                   18159 non-null  float64 \n",
      " 59  Dribbling                 18159 non-null  float64 \n",
      " 60  Curve                     18159 non-null  float64 \n",
      " 61  FKAccuracy                18159 non-null  float64 \n",
      " 62  LongPassing               18159 non-null  float64 \n",
      " 63  BallControl               18159 non-null  float64 \n",
      " 64  Acceleration              18159 non-null  float64 \n",
      " 65  SprintSpeed               18159 non-null  float64 \n",
      " 66  Agility                   18159 non-null  float64 \n",
      " 67  Reactions                 18159 non-null  float64 \n",
      " 68  Balance                   18159 non-null  float64 \n",
      " 69  ShotPower                 18159 non-null  float64 \n",
      " 70  Jumping                   18159 non-null  float64 \n",
      " 71  Stamina                   18159 non-null  float64 \n",
      " 72  Strength                  18159 non-null  float64 \n",
      " 73  LongShots                 18159 non-null  float64 \n",
      " 74  Aggression                18159 non-null  float64 \n",
      " 75  Interceptions             18159 non-null  float64 \n",
      " 76  Positioning               18159 non-null  float64 \n",
      " 77  Vision                    18159 non-null  float64 \n",
      " 78  Penalties                 18159 non-null  float64 \n",
      " 79  Composure                 18159 non-null  float64 \n",
      " 80  Marking                   18159 non-null  float64 \n",
      " 81  StandingTackle            18159 non-null  float64 \n",
      " 82  SlidingTackle             18159 non-null  float64 \n",
      " 83  GKDiving                  18159 non-null  float64 \n",
      " 84  GKHandling                18159 non-null  float64 \n",
      " 85  GKKicking                 18159 non-null  float64 \n",
      " 86  GKPositioning             18159 non-null  float64 \n",
      " 87  GKReflexes                18159 non-null  float64 \n",
      " 88  Release Clause            16643 non-null  category\n",
      "dtypes: category(45), float64(38), int64(6)\n",
      "memory usage: 9.0 MB\n"
     ]
    }
   ],
   "source": [
    "# turn columns which contain strings into category values\n",
    "for label, content in df.items():\n",
    "    if pd.api.types.is_string_dtype(content):\n",
    "        df[label] = content.astype(\"category\").cat.as_ordered()\n",
    "df.info()"
   ]
  },
  {
   "cell_type": "markdown",
   "metadata": {},
   "source": [
    "### Fill missing values\n",
    "\n",
    "**Fill missing numerical values**\n",
    "\n",
    "We're going to fill any numerical column with missing values with the median of that column."
   ]
  },
  {
   "cell_type": "code",
   "execution_count": 8,
   "metadata": {},
   "outputs": [],
   "source": [
    "# fill numeric rows with the median\n",
    "for label, content in df.items():\n",
    "    if pd.api.types.is_numeric_dtype(content):\n",
    "        if pd.isnull(content).sum():\n",
    "            df[label] = content.fillna(content.median())"
   ]
  },
  {
   "cell_type": "code",
   "execution_count": 9,
   "metadata": {},
   "outputs": [],
   "source": [
    "# check if there is any null values\n",
    "for label, content in df.items():\n",
    "    if pd.api.types.is_numeric_dtype(content):\n",
    "        if pd.isnull(content).sum():\n",
    "            print(label)"
   ]
  },
  {
   "cell_type": "markdown",
   "metadata": {},
   "source": [
    "**Fill missing categorical values**\n",
    "\n",
    "We're going to fill any categorical column with missing values as turning them into numbers."
   ]
  },
  {
   "cell_type": "code",
   "execution_count": 10,
   "metadata": {},
   "outputs": [],
   "source": [
    "# fill categorical rows as turning them into numbers\n",
    "for label, content in df.items():\n",
    "    if not pd.api.types.is_numeric_dtype(content):\n",
    "        if pd.isnull(content).sum():\n",
    "            # we add the +1 because pandas encodes missing categories as -1\n",
    "            df[label] = pd.Categorical(content).codes+1"
   ]
  },
  {
   "cell_type": "code",
   "execution_count": 11,
   "metadata": {},
   "outputs": [],
   "source": [
    "# check if there is any null values\n",
    "for label, content in df.items():\n",
    "    if not pd.api.types.is_numeric_dtype(content):\n",
    "        if pd.isnull(content).sum():\n",
    "            print(label)"
   ]
  },
  {
   "cell_type": "code",
   "execution_count": 12,
   "metadata": {},
   "outputs": [
    {
     "data": {
      "text/plain": [
       "Unnamed: 0        0\n",
       "ID                0\n",
       "Name              0\n",
       "Age               0\n",
       "Photo             0\n",
       "                 ..\n",
       "GKHandling        0\n",
       "GKKicking         0\n",
       "GKPositioning     0\n",
       "GKReflexes        0\n",
       "Release Clause    0\n",
       "Length: 89, dtype: int64"
      ]
     },
     "execution_count": 12,
     "metadata": {},
     "output_type": "execute_result"
    }
   ],
   "source": [
    "# check all data frame\n",
    "df.isna().sum()"
   ]
  },
  {
   "cell_type": "code",
   "execution_count": 13,
   "metadata": {},
   "outputs": [],
   "source": [
    "# drop all columns which contains a ref to images\n",
    "df.drop(\"Photo\", axis=1, inplace=True)\n",
    "df.drop(\"Flag\", axis=1, inplace=True)\n",
    "df.drop(\"Club Logo\", axis=1, inplace=True)"
   ]
  },
  {
   "cell_type": "code",
   "execution_count": 14,
   "metadata": {
    "scrolled": true
   },
   "outputs": [
    {
     "name": "stdout",
     "output_type": "stream",
     "text": [
      "Name\n",
      "Nationality\n",
      "Value\n",
      "Wage\n"
     ]
    }
   ],
   "source": [
    "# check all data frame if not numerical columns exists\n",
    "for label, content in df.items():\n",
    "    if not pd.api.types.is_numeric_dtype(content):\n",
    "        print(label)"
   ]
  },
  {
   "cell_type": "code",
   "execution_count": 15,
   "metadata": {},
   "outputs": [],
   "source": [
    "# create a function which convert column with price into int format\n",
    "def convert_from_price_into_int(df, column_name):\n",
    "    \"\"\"\n",
    "    Convert values in column from price as (€100K) to int format\n",
    "    df : source data frame,\n",
    "    column_name : name of column to convert\n",
    "    \"\"\"\n",
    "    df[column_name] = df[column_name].str.replace('[€\\,\\.]', '')\n",
    "    df[column_name] = df[column_name].str.replace('M', '000000')\n",
    "    df[column_name] = df[column_name].str.replace('K', '000')\n",
    "    df[column_name] = df[column_name].astype(float)\n",
    "    \n",
    "convert_from_price_into_int(df, \"Wage\")\n",
    "convert_from_price_into_int(df, \"Value\")"
   ]
  },
  {
   "cell_type": "code",
   "execution_count": 16,
   "metadata": {},
   "outputs": [
    {
     "name": "stdout",
     "output_type": "stream",
     "text": [
      "Name\n",
      "Nationality\n"
     ]
    }
   ],
   "source": [
    "# check all data frame if not numerical columns exists\n",
    "for label, content in df.items():\n",
    "    if not pd.api.types.is_numeric_dtype(content):\n",
    "        print(label)"
   ]
  },
  {
   "cell_type": "code",
   "execution_count": 17,
   "metadata": {},
   "outputs": [
    {
     "data": {
      "text/plain": [
       "Unnamed: 0        0\n",
       "ID                0\n",
       "Name              0\n",
       "Age               0\n",
       "Nationality       0\n",
       "                 ..\n",
       "GKHandling        0\n",
       "GKKicking         0\n",
       "GKPositioning     0\n",
       "GKReflexes        0\n",
       "Release Clause    0\n",
       "Length: 86, dtype: int64"
      ]
     },
     "execution_count": 17,
     "metadata": {},
     "output_type": "execute_result"
    }
   ],
   "source": [
    "df.isna().sum()"
   ]
  },
  {
   "cell_type": "markdown",
   "metadata": {},
   "source": [
    "## 5. Modelling\n",
    "\n",
    "Before we build a model, we have to get our dataset ready."
   ]
  },
  {
   "cell_type": "code",
   "execution_count": 18,
   "metadata": {},
   "outputs": [],
   "source": [
    "# random seed for reproducibility\n",
    "np.random.seed(42)\n",
    "\n",
    "# everything except Overall variable (we want to predict Overall)\n",
    "X = df.drop(\"Overall\", axis=1)\n",
    "# Overall variable\n",
    "y = df[\"Overall\"]"
   ]
  },
  {
   "cell_type": "markdown",
   "metadata": {},
   "source": [
    "We have two category columns \n",
    "* Name\n",
    "* Nationality\n",
    "and we need encode these features"
   ]
  },
  {
   "cell_type": "code",
   "execution_count": 19,
   "metadata": {},
   "outputs": [
    {
     "data": {
      "text/plain": [
       "array([[  0.,   0.,   0., ...,  14.,   8., 294.],\n",
       "       [  0.,   0.,   0., ...,  14.,  11.,  83.],\n",
       "       [  0.,   0.,   0., ...,  15.,  11., 295.],\n",
       "       ...,\n",
       "       [  0.,   0.,   0., ...,   6.,  13., 171.],\n",
       "       [  0.,   0.,   0., ...,   8.,   9., 121.],\n",
       "       [  0.,   0.,   0., ...,  12.,   9., 171.]])"
      ]
     },
     "execution_count": 19,
     "metadata": {},
     "output_type": "execute_result"
    }
   ],
   "source": [
    "categorical_features = [\"Name\", \"Nationality\"]\n",
    "one_hot = OneHotEncoder()\n",
    "transformer = ColumnTransformer([(\"one_hot\", \n",
    "                                 one_hot, \n",
    "                                 categorical_features)],\n",
    "                                 remainder=\"passthrough\")\n",
    "\n",
    "# fill train and test values separately\n",
    "transformed_X = transformer.fit_transform(df)\n",
    "\n",
    "# check transformed and filled X_train\n",
    "transformed_X.toarray()"
   ]
  },
  {
   "cell_type": "markdown",
   "metadata": {},
   "source": [
    "Split our data on \n",
    "* training set (about 80%)\n",
    "* test set (about 20%)"
   ]
  },
  {
   "cell_type": "code",
   "execution_count": 20,
   "metadata": {},
   "outputs": [],
   "source": [
    "# split data on train and test sets\n",
    "X_train, X_test, y_train, y_test = train_test_split(transformed_X, y, test_size=0.2)"
   ]
  },
  {
   "cell_type": "markdown",
   "metadata": {},
   "source": [
    "After parsing the data we should be able to build a machine learning model. We'll be using the following and comparing their results.\n",
    "\n",
    "1. ElasticNet\n",
    "2. RandomForestRegressor"
   ]
  },
  {
   "cell_type": "code",
   "execution_count": 21,
   "metadata": {},
   "outputs": [
    {
     "data": {
      "text/plain": [
       "{'ElasticNet': 0.9925104323569715, 'RandomForestRegressor': 0.9999671491559173}"
      ]
     },
     "execution_count": 21,
     "metadata": {},
     "output_type": "execute_result"
    }
   ],
   "source": [
    "# put models in a dictionary \n",
    "models = {\"ElasticNet\" : ElasticNet(), \n",
    "         \"RandomForestRegressor\" : RandomForestRegressor()}\n",
    "\n",
    "# create a function to fit and score models\n",
    "def fit_and_score(models, X_train, X_test, y_train, y_test):\n",
    "    \"\"\"\n",
    "    Fits and evaluates given machine learning models.\n",
    "    models : a dict of different Scikit-Learn machine learning models\n",
    "    X_train : training data\n",
    "    X_test : testing data\n",
    "    y_train : labels assosciated with training data\n",
    "    y_test : labels assosciated with test data\n",
    "    \"\"\"\n",
    "    # random seed for reproducible results\n",
    "    np.random.seed(42)\n",
    "    # make a list to keep model scores\n",
    "    model_scores = {}\n",
    "    # loop through models\n",
    "    for name, model in models.items():\n",
    "        # fit the model to the data\n",
    "        model.fit(X_train, y_train)\n",
    "        # evaluate the model and append its score to model_scores\n",
    "        model_scores[name] = model.score(X_test, y_test)\n",
    "    return model_scores        \n",
    "\n",
    "model_scores = fit_and_score(models, X_train, X_test, y_train, y_test)\n",
    "model_scores"
   ]
  },
  {
   "cell_type": "code",
   "execution_count": 22,
   "metadata": {},
   "outputs": [
    {
     "data": {
      "image/png": "[encoded data removed]",
      "text/plain": [
       "<Figure size 432x288 with 1 Axes>"
      ]
     },
     "metadata": {
      "needs_background": "light"
     },
     "output_type": "display_data"
    }
   ],
   "source": [
    "# compare accuracy for two models\n",
    "model_compare = pd.DataFrame(model_scores, index=['accuracy'])\n",
    "model_compare.plot.barh();"
   ]
  },
  {
   "cell_type": "code",
   "execution_count": 23,
   "metadata": {},
   "outputs": [
    {
     "data": {
      "text/plain": [
       "{'ElasticNet': {'R^2': 0.9925104323569715,\n",
       "  'MAE': 0.41941252481998575,\n",
       "  'MSE': 0.34832192359746483},\n",
       " 'RandomForestRegressor': {'R^2': 0.9999671491559173,\n",
       "  'MAE': 0.0023366282262493347,\n",
       "  'MSE': 0.0015278143876990748}}"
      ]
     },
     "execution_count": 23,
     "metadata": {},
     "output_type": "execute_result"
    }
   ],
   "source": [
    "# create a function to evaluate the model\n",
    "def evaluate(models, X_test, y_test):\n",
    "    \"\"\"\n",
    "    Evaluates metrics on the test set.\n",
    "    models : a dict of different Scikit-Learn machine learning models\n",
    "    X_test : testing data\n",
    "    y_test : labels assosciated with test data\n",
    "    \"\"\"\n",
    "    # random seed for reproducible results\n",
    "    np.random.seed(42)\n",
    "    # make a list to keep model metrics\n",
    "    model_metrics = {}\n",
    "    # loop through models\n",
    "    for name, model in models.items():\n",
    "        y_preds = model.predict(X_test)\n",
    "        model_metrics[name] = {\"R^2\" : r2_score(y_test, y_preds), \n",
    "                               \"MAE\" : mean_absolute_error(y_test, y_preds), \n",
    "                              \"MSE\" : mean_squared_error(y_test, y_preds)}\n",
    "    return model_metrics\n",
    "        \n",
    "model_metrics = evaluate(models, X_test, y_test)\n",
    "model_metrics"
   ]
  },
  {
   "cell_type": "code",
   "execution_count": 24,
   "metadata": {},
   "outputs": [
    {
     "data": {
      "text/html": [
       "<div>\n",
       "<style scoped>\n",
       "    .dataframe tbody tr th:only-of-type {\n",
       "        vertical-align: middle;\n",
       "    }\n",
       "\n",
       "    .dataframe tbody tr th {\n",
       "        vertical-align: top;\n",
       "    }\n",
       "\n",
       "    .dataframe thead th {\n",
       "        text-align: right;\n",
       "    }\n",
       "</style>\n",
       "<table border=\"1\" class=\"dataframe\">\n",
       "  <thead>\n",
       "    <tr style=\"text-align: right;\">\n",
       "      <th></th>\n",
       "      <th>R^2</th>\n",
       "      <th>MAE</th>\n",
       "      <th>MSE</th>\n",
       "    </tr>\n",
       "  </thead>\n",
       "  <tbody>\n",
       "    <tr>\n",
       "      <th>ElasticNet</th>\n",
       "      <td>0.992510</td>\n",
       "      <td>0.419413</td>\n",
       "      <td>0.348322</td>\n",
       "    </tr>\n",
       "    <tr>\n",
       "      <th>RandomForestRegressor</th>\n",
       "      <td>0.999967</td>\n",
       "      <td>0.002337</td>\n",
       "      <td>0.001528</td>\n",
       "    </tr>\n",
       "  </tbody>\n",
       "</table>\n",
       "</div>"
      ],
      "text/plain": [
       "                            R^2       MAE       MSE\n",
       "ElasticNet             0.992510  0.419413  0.348322\n",
       "RandomForestRegressor  0.999967  0.002337  0.001528"
      ]
     },
     "execution_count": 24,
     "metadata": {},
     "output_type": "execute_result"
    }
   ],
   "source": [
    "# compare accuracy for two models\n",
    "model_compare = pd.concat([pd.DataFrame(model_metrics['ElasticNet'], index=['ElasticNet']), \n",
    "                           pd.DataFrame(model_metrics['RandomForestRegressor'], index=['RandomForestRegressor'])])\n",
    "model_compare"
   ]
  },
  {
   "cell_type": "code",
   "execution_count": 25,
   "metadata": {},
   "outputs": [
    {
     "data": {
      "image/png": "[encoded data removed]",
      "text/plain": [
       "<Figure size 1440x360 with 1 Axes>"
      ]
     },
     "metadata": {
      "needs_background": "light"
     },
     "output_type": "display_data"
    }
   ],
   "source": [
    "model_compare.plot.barh(figsize=(20, 5));"
   ]
  },
  {
   "cell_type": "markdown",
   "metadata": {},
   "source": [
    "Make our predictions more visible. Create a data frame with y_tests and y_preds and plot it."
   ]
  },
  {
   "cell_type": "code",
   "execution_count": 26,
   "metadata": {},
   "outputs": [],
   "source": [
    "# create a function for visible predictions\n",
    "def plot_results(models, X_test, y_test):\n",
    "    \"\"\"\n",
    "    Plot a distribution of test and predicted values.\n",
    "    models : a dict of different Scikit-Learn machine learning models\n",
    "    X_test : testing data\n",
    "    y_test : labels assosciated with test data\n",
    "    \"\"\"\n",
    "    fig, ax = plt.subplots(nrows=1, ncols=len(models), figsize=(12, 5))\n",
    "    # random seed for reproducible results\n",
    "    np.random.seed(42)\n",
    "    # loop through models\n",
    "    i = 0\n",
    "    for name, model in models.items():\n",
    "        y_preds = model.predict(X_test)\n",
    "        df_test_preds = pd.DataFrame(data={\"actual values\": y_test,  \"predictions\": y_preds})\n",
    "        x = np.arange(0, len(df_test_preds), 1)\n",
    "        ax[i].scatter(x, df_test_preds[\"actual values\"], c='b', label=\"Acutual Values\")\n",
    "        ax[i].scatter(x, df_test_preds[\"predictions\"], c='r', label=\"Predictions\")\n",
    "        ax[i].legend();\n",
    "        ax[i].set_title(name)\n",
    "        i += 1     "
   ]
  },
  {
   "cell_type": "code",
   "execution_count": 27,
   "metadata": {},
   "outputs": [
    {
     "data": {
      "image/png": "[encoded data removed]",
      "text/plain": [
       "<Figure size 864x360 with 2 Axes>"
      ]
     },
     "metadata": {
      "needs_background": "light"
     },
     "output_type": "display_data"
    }
   ],
   "source": [
    "plot_results(models, X_test, y_test)"
   ]
  }
 ],
 "metadata": {
  "kernelspec": {
   "display_name": "Python 3",
   "language": "python",
   "name": "python3"
  },
  "language_info": {
   "codemirror_mode": {
    "name": "ipython",
    "version": 3
   },
   "file_extension": ".py",
   "mimetype": "text/x-python",
   "name": "python",
   "nbconvert_exporter": "python",
   "pygments_lexer": "ipython3",
   "version": "3.8.5"
  }
 },
 "nbformat": 4,
 "nbformat_minor": 4
}
